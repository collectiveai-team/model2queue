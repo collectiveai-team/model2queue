{
 "cells": [
  {
   "cell_type": "code",
   "execution_count": 4,
   "metadata": {},
   "outputs": [],
   "source": [
    "# %%capture\n",
    "# !pip install kombu\n",
    "# !pip install scikit-learn\n",
    "# !pip install fastapi\n",
    "# !pip install uvicorn"
   ]
  },
  {
   "attachments": {},
   "cell_type": "markdown",
   "metadata": {},
   "source": [
    "# Decorator"
   ]
  },
  {
   "cell_type": "code",
   "execution_count": 12,
   "metadata": {},
   "outputs": [],
   "source": [
    "from functools import wraps\n",
    "\n",
    "def output_decorator(func):\n",
    "    print(\"output_decorator\")\n",
    "    def func_wrapper(*args, **kwargs):\n",
    "        print(args, kwargs)\n",
    "        output = func(*args, **kwargs)\n",
    "        print(\"postprocess\")\n",
    "        return output\n",
    "    return func_wrapper"
   ]
  },
  {
   "cell_type": "code",
   "execution_count": 13,
   "metadata": {},
   "outputs": [
    {
     "name": "stdout",
     "output_type": "stream",
     "text": [
      "output_decorator\n",
      "(1, 2) {}\n",
      "inside test\n",
      "postprocess\n"
     ]
    },
    {
     "data": {
      "text/plain": [
       "0"
      ]
     },
     "execution_count": 13,
     "metadata": {},
     "output_type": "execute_result"
    }
   ],
   "source": [
    "@output_decorator\n",
    "def test(*args):\n",
    "    print(\"inside test\")\n",
    "    return 0\n",
    "test(1,2)"
   ]
  },
  {
   "attachments": {},
   "cell_type": "markdown",
   "metadata": {},
   "source": [
    "# Kombu queues example"
   ]
  },
  {
   "attachments": {},
   "cell_type": "markdown",
   "metadata": {},
   "source": [
    "## Simple example"
   ]
  },
  {
   "cell_type": "code",
   "execution_count": 1,
   "metadata": {},
   "outputs": [],
   "source": [
    "from kombu import Connection, Exchange, Queue, Producer\n",
    "\n",
    "rabbit_url = \"memory://localhost/\"\n",
    "\n",
    "conn = Connection(rabbit_url)\n",
    "\n",
    "channel = conn.channel()\n",
    "\n",
    "exchange = Exchange(\"example-exchange\", type=\"direct\")\n",
    "\n",
    "producer = Producer(exchange=exchange, channel=channel, routing_key=\"BOB\")\n",
    "\n",
    "queue = Queue(name=\"example-queue\", exchange=exchange, routing_key=\"BOB\")\n",
    "queue.maybe_bind(conn)\n",
    "queue.declare()\n",
    "\n",
    "producer.publish(\"Hello there!\")"
   ]
  },
  {
   "cell_type": "code",
   "execution_count": 2,
   "metadata": {},
   "outputs": [
    {
     "name": "stdout",
     "output_type": "stream",
     "text": [
      "The body is Hello there!\n"
     ]
    }
   ],
   "source": [
    "from kombu import Connection, Exchange, Queue, Consumer\n",
    "\n",
    "rabbit_url = \"memory://localhost/\"\n",
    "\n",
    "conn = Connection(rabbit_url)\n",
    "\n",
    "exchange = Exchange(\"example-exchange\", type=\"direct\")\n",
    "\n",
    "queue = Queue(name=\"example-queue\", exchange=exchange, routing_key=\"BOB\")\n",
    "\n",
    "\n",
    "def process_message(body, message):\n",
    "    print(\"The body is {}\".format(body))\n",
    "    message.ack()\n",
    "\n",
    "\n",
    "with Consumer(conn, queues=queue, callbacks=[process_message], accept=[\"text/plain\"]):\n",
    "    conn.drain_events(timeout=2)"
   ]
  },
  {
   "attachments": {},
   "cell_type": "markdown",
   "metadata": {},
   "source": [
    "## Complete example"
   ]
  },
  {
   "cell_type": "code",
   "execution_count": 1,
   "metadata": {},
   "outputs": [
    {
     "data": {
      "text/plain": [
       "'queue2'"
      ]
     },
     "execution_count": 1,
     "metadata": {},
     "output_type": "execute_result"
    }
   ],
   "source": [
    "from kombu import Connection, Exchange, Queue, Producer, Consumer, Message\n",
    "from kombu.log import get_logger\n",
    "from kombu.mixins import ConsumerMixin, ConsumerProducerMixin\n",
    "from kombu.utils.functional import reprcall\n",
    "\n",
    "from threading import Thread\n",
    "\n",
    "rabbit_url = \"memory://localhost/\"\n",
    "conn = Connection(rabbit_url)\n",
    "channel = conn.channel()\n",
    "\n",
    "exchange = Exchange(\"exchange1\", type=\"direct\")\n",
    "queue = Queue(name=\"queue1\", exchange=exchange, routing_key=\"rk1\")\n",
    "queue.maybe_bind(conn)\n",
    "queue.declare()\n",
    "\n",
    "tgt_exchange = Exchange(\"exchange2\", type=\"direct\")\n",
    "tgt_queue = Queue(name=\"queue2\", exchange=tgt_exchange, routing_key=\"rk2\")\n",
    "tgt_queue.maybe_bind(conn)\n",
    "tgt_queue.declare()\n",
    "\n"
   ]
  },
  {
   "cell_type": "code",
   "execution_count": 2,
   "metadata": {},
   "outputs": [],
   "source": [
    "\n",
    "producer = Producer(exchange=exchange, channel=channel, routing_key=\"rk1\")\n",
    "\n",
    "producer.publish(\"Hello there!\")"
   ]
  },
  {
   "cell_type": "code",
   "execution_count": 3,
   "metadata": {},
   "outputs": [
    {
     "name": "stdout",
     "output_type": "stream",
     "text": [
      "<Message object at 0x7fd4ac784550 with details {'state': 'RECEIVED', 'content_type': 'text/plain', 'delivery_tag': '33b47b0d-7306-434f-84f0-2a5b06b0e779', 'body_length': 12, 'properties': {}, 'delivery_info': {'exchange': 'exchange1', 'routing_key': 'rk1'}}>\n",
      "None\n"
     ]
    }
   ],
   "source": [
    "class Worker(ConsumerProducerMixin):\n",
    "\n",
    "    def __init__(self, connection, queue, tgt_exchange):\n",
    "        self.connection = connection\n",
    "        self.queue = queue\n",
    "        self.tgt_exchange = tgt_exchange\n",
    "\n",
    "    def get_consumers(self, Consumer, channel):\n",
    "        return [Consumer(queues=self.queue,\n",
    "                         on_message=self.handle_message,\n",
    "                        #  accept=\"text/plain\",\n",
    "                         prefetch_count=10)]\n",
    "\n",
    "    def handle_message(self, message):\n",
    "        print(message)\n",
    "        out = self.producer.publish(\n",
    "            'hello to you',\n",
    "            exchange=self.tgt_exchange,\n",
    "            routing_key=\"rk2\",\n",
    "            # correlation_id=message.properties['correlation_id'],\n",
    "            retry=True,\n",
    "        )\n",
    "        print(out)\n",
    "\n",
    "\n",
    "def start_consumer_producer(queue, tgt_exchange):\n",
    "    with Connection('memory://localhost/') as conn:\n",
    "        queue.maybe_bind(conn)\n",
    "        queue.declare()\n",
    "        worker = Worker(connection=conn, queue=queue, tgt_exchange=tgt_exchange)\n",
    "        worker.run()\n",
    "\n",
    "t = Thread(\n",
    "        target=start_consumer_producer,\n",
    "        kwargs={\"queue\": queue, \"tgt_exchange\": tgt_exchange}\n",
    "    )\n",
    "t.start()\n",
    "# with Connection('memory://localhost/') as conn:\n",
    "\n",
    "# worker = Worker(connection=conn, queue=queue, tgt_exchange=tgt_exchange)\n",
    "# worker.run()"
   ]
  },
  {
   "cell_type": "code",
   "execution_count": 4,
   "metadata": {},
   "outputs": [
    {
     "name": "stdout",
     "output_type": "stream",
     "text": [
      "The body is hello to you\n"
     ]
    }
   ],
   "source": [
    "def process_message(body, message):\n",
    "    print(\"The body is {}\".format(body))\n",
    "    message.ack()\n",
    "\n",
    "\n",
    "with Consumer(conn, queues=tgt_queue, callbacks=[process_message], accept=[\"text/plain\"]):\n",
    "    conn.drain_events(timeout=2)"
   ]
  },
  {
   "attachments": {},
   "cell_type": "markdown",
   "metadata": {},
   "source": [
    "# Kombu decorator"
   ]
  },
  {
   "cell_type": "code",
   "execution_count": 1,
   "metadata": {},
   "outputs": [
    {
     "data": {
      "text/html": [
       "<style>#sk-container-id-1 {color: black;background-color: white;}#sk-container-id-1 pre{padding: 0;}#sk-container-id-1 div.sk-toggleable {background-color: white;}#sk-container-id-1 label.sk-toggleable__label {cursor: pointer;display: block;width: 100%;margin-bottom: 0;padding: 0.3em;box-sizing: border-box;text-align: center;}#sk-container-id-1 label.sk-toggleable__label-arrow:before {content: \"▸\";float: left;margin-right: 0.25em;color: #696969;}#sk-container-id-1 label.sk-toggleable__label-arrow:hover:before {color: black;}#sk-container-id-1 div.sk-estimator:hover label.sk-toggleable__label-arrow:before {color: black;}#sk-container-id-1 div.sk-toggleable__content {max-height: 0;max-width: 0;overflow: hidden;text-align: left;background-color: #f0f8ff;}#sk-container-id-1 div.sk-toggleable__content pre {margin: 0.2em;color: black;border-radius: 0.25em;background-color: #f0f8ff;}#sk-container-id-1 input.sk-toggleable__control:checked~div.sk-toggleable__content {max-height: 200px;max-width: 100%;overflow: auto;}#sk-container-id-1 input.sk-toggleable__control:checked~label.sk-toggleable__label-arrow:before {content: \"▾\";}#sk-container-id-1 div.sk-estimator input.sk-toggleable__control:checked~label.sk-toggleable__label {background-color: #d4ebff;}#sk-container-id-1 div.sk-label input.sk-toggleable__control:checked~label.sk-toggleable__label {background-color: #d4ebff;}#sk-container-id-1 input.sk-hidden--visually {border: 0;clip: rect(1px 1px 1px 1px);clip: rect(1px, 1px, 1px, 1px);height: 1px;margin: -1px;overflow: hidden;padding: 0;position: absolute;width: 1px;}#sk-container-id-1 div.sk-estimator {font-family: monospace;background-color: #f0f8ff;border: 1px dotted black;border-radius: 0.25em;box-sizing: border-box;margin-bottom: 0.5em;}#sk-container-id-1 div.sk-estimator:hover {background-color: #d4ebff;}#sk-container-id-1 div.sk-parallel-item::after {content: \"\";width: 100%;border-bottom: 1px solid gray;flex-grow: 1;}#sk-container-id-1 div.sk-label:hover label.sk-toggleable__label {background-color: #d4ebff;}#sk-container-id-1 div.sk-serial::before {content: \"\";position: absolute;border-left: 1px solid gray;box-sizing: border-box;top: 0;bottom: 0;left: 50%;z-index: 0;}#sk-container-id-1 div.sk-serial {display: flex;flex-direction: column;align-items: center;background-color: white;padding-right: 0.2em;padding-left: 0.2em;position: relative;}#sk-container-id-1 div.sk-item {position: relative;z-index: 1;}#sk-container-id-1 div.sk-parallel {display: flex;align-items: stretch;justify-content: center;background-color: white;position: relative;}#sk-container-id-1 div.sk-item::before, #sk-container-id-1 div.sk-parallel-item::before {content: \"\";position: absolute;border-left: 1px solid gray;box-sizing: border-box;top: 0;bottom: 0;left: 50%;z-index: -1;}#sk-container-id-1 div.sk-parallel-item {display: flex;flex-direction: column;z-index: 1;position: relative;background-color: white;}#sk-container-id-1 div.sk-parallel-item:first-child::after {align-self: flex-end;width: 50%;}#sk-container-id-1 div.sk-parallel-item:last-child::after {align-self: flex-start;width: 50%;}#sk-container-id-1 div.sk-parallel-item:only-child::after {width: 0;}#sk-container-id-1 div.sk-dashed-wrapped {border: 1px dashed gray;margin: 0 0.4em 0.5em 0.4em;box-sizing: border-box;padding-bottom: 0.4em;background-color: white;}#sk-container-id-1 div.sk-label label {font-family: monospace;font-weight: bold;display: inline-block;line-height: 1.2em;}#sk-container-id-1 div.sk-label-container {text-align: center;}#sk-container-id-1 div.sk-container {/* jupyter's `normalize.less` sets `[hidden] { display: none; }` but bootstrap.min.css set `[hidden] { display: none !important; }` so we also need the `!important` here to be able to override the default hidden behavior on the sphinx rendered scikit-learn.org. See: https://github.com/scikit-learn/scikit-learn/issues/21755 */display: inline-block !important;position: relative;}#sk-container-id-1 div.sk-text-repr-fallback {display: none;}</style><div id=\"sk-container-id-1\" class=\"sk-top-container\"><div class=\"sk-text-repr-fallback\"><pre>MLPClassifier(alpha=1e-05, hidden_layer_sizes=(5, 2), random_state=1,\n",
       "              solver=&#x27;lbfgs&#x27;)</pre><b>In a Jupyter environment, please rerun this cell to show the HTML representation or trust the notebook. <br />On GitHub, the HTML representation is unable to render, please try loading this page with nbviewer.org.</b></div><div class=\"sk-container\" hidden><div class=\"sk-item\"><div class=\"sk-estimator sk-toggleable\"><input class=\"sk-toggleable__control sk-hidden--visually\" id=\"sk-estimator-id-1\" type=\"checkbox\" checked><label for=\"sk-estimator-id-1\" class=\"sk-toggleable__label sk-toggleable__label-arrow\">MLPClassifier</label><div class=\"sk-toggleable__content\"><pre>MLPClassifier(alpha=1e-05, hidden_layer_sizes=(5, 2), random_state=1,\n",
       "              solver=&#x27;lbfgs&#x27;)</pre></div></div></div></div></div>"
      ],
      "text/plain": [
       "MLPClassifier(alpha=1e-05, hidden_layer_sizes=(5, 2), random_state=1,\n",
       "              solver='lbfgs')"
      ]
     },
     "execution_count": 1,
     "metadata": {},
     "output_type": "execute_result"
    }
   ],
   "source": [
    "from sklearn.neural_network import MLPClassifier\n",
    "from model2queue.decorators import predict_from_queue, enqueue_task\n",
    "\n",
    "X = [[0., 0.], [1., 1.]]\n",
    "y = [0, 1]\n",
    "clf = MLPClassifier(solver='lbfgs', alpha=1e-5,\n",
    "                     hidden_layer_sizes=(5, 2), random_state=1)\n",
    "\n",
    "clf.fit(X, y)\n"
   ]
  },
  {
   "cell_type": "code",
   "execution_count": 2,
   "metadata": {},
   "outputs": [
    {
     "ename": "RuntimeError",
     "evalue": "asyncio.run() cannot be called from a running event loop",
     "output_type": "error",
     "traceback": [
      "\u001b[0;31m---------------------------------------------------------------------------\u001b[0m",
      "\u001b[0;31mRuntimeError\u001b[0m                              Traceback (most recent call last)",
      "Cell \u001b[0;32mIn[2], line 2\u001b[0m\n\u001b[1;32m      1\u001b[0m \u001b[38;5;129;43m@enqueue_task\u001b[39;49m\n\u001b[0;32m----> 2\u001b[0m \u001b[38;5;28;43;01mdef\u001b[39;49;00m\u001b[43m \u001b[49m\u001b[38;5;21;43mhello\u001b[39;49m\u001b[43m(\u001b[49m\u001b[43m)\u001b[49m\u001b[43m:\u001b[49m\n\u001b[1;32m      3\u001b[0m \u001b[43m    \u001b[49m\u001b[38;5;28;43;01mreturn\u001b[39;49;00m\u001b[43m \u001b[49m\u001b[38;5;124;43m\"\u001b[39;49m\u001b[38;5;124;43mhello\u001b[39;49m\u001b[38;5;124;43m\"\u001b[39;49m\n",
      "File \u001b[0;32m/workspace/src/model2queue/model2queue/decorators.py:72\u001b[0m, in \u001b[0;36menqueue_task\u001b[0;34m(func, conn_url)\u001b[0m\n\u001b[1;32m     <a href='file:///workspace/src/model2queue/model2queue/decorators.py?line=68'>69</a>\u001b[0m     producer\u001b[39m.\u001b[39mpublish(task)\n\u001b[1;32m     <a href='file:///workspace/src/model2queue/model2queue/decorators.py?line=69'>70</a>\u001b[0m     \u001b[39mreturn\u001b[39;00m {\u001b[39m\"\u001b[39m\u001b[39mstatus\u001b[39m\u001b[39m\"\u001b[39m: \u001b[39m\"\u001b[39m\u001b[39mok\u001b[39m\u001b[39m\"\u001b[39m}\n\u001b[0;32m---> <a href='file:///workspace/src/model2queue/model2queue/decorators.py?line=71'>72</a>\u001b[0m run_in_main_loop(uvicorn\u001b[39m.\u001b[39;49mrun, app, host\u001b[39m=\u001b[39;49m\u001b[39m\"\u001b[39;49m\u001b[39m0.0.0.0\u001b[39;49m\u001b[39m\"\u001b[39;49m, port\u001b[39m=\u001b[39;49m\u001b[39m8000\u001b[39;49m)\n",
      "File \u001b[0;32m/workspace/src/model2queue/model2queue/helpers.py:10\u001b[0m, in \u001b[0;36mrun_in_main_loop\u001b[0;34m(func, *args, **kwargs)\u001b[0m\n\u001b[1;32m      <a href='file:///workspace/src/model2queue/model2queue/helpers.py?line=7'>8</a>\u001b[0m     loop \u001b[39m=\u001b[39m \u001b[39mNone\u001b[39;00m\n\u001b[1;32m      <a href='file:///workspace/src/model2queue/model2queue/helpers.py?line=8'>9</a>\u001b[0m \u001b[39mif\u001b[39;00m loop \u001b[39mand\u001b[39;00m loop\u001b[39m.\u001b[39mis_running():\n\u001b[0;32m---> <a href='file:///workspace/src/model2queue/model2queue/helpers.py?line=9'>10</a>\u001b[0m     tsk \u001b[39m=\u001b[39m loop\u001b[39m.\u001b[39mcreate_task(func(\u001b[39m*\u001b[39;49margs, \u001b[39m*\u001b[39;49m\u001b[39m*\u001b[39;49mkwargs))\n\u001b[1;32m     <a href='file:///workspace/src/model2queue/model2queue/helpers.py?line=10'>11</a>\u001b[0m     tsk\u001b[39m.\u001b[39madd_done_callback(\n\u001b[1;32m     <a href='file:///workspace/src/model2queue/model2queue/helpers.py?line=11'>12</a>\u001b[0m         \u001b[39mlambda\u001b[39;00m t: \u001b[39mprint\u001b[39m(\n\u001b[1;32m     <a href='file:///workspace/src/model2queue/model2queue/helpers.py?line=12'>13</a>\u001b[0m             \u001b[39mf\u001b[39m\u001b[39m\"\u001b[39m\u001b[39mTask done with result=\u001b[39m\u001b[39m{\u001b[39;00mt\u001b[39m.\u001b[39mresult()\u001b[39m}\u001b[39;00m\u001b[39m  << return val of main()\u001b[39m\u001b[39m\"\u001b[39m\n\u001b[1;32m     <a href='file:///workspace/src/model2queue/model2queue/helpers.py?line=13'>14</a>\u001b[0m         )\n\u001b[1;32m     <a href='file:///workspace/src/model2queue/model2queue/helpers.py?line=14'>15</a>\u001b[0m     )\n\u001b[1;32m     <a href='file:///workspace/src/model2queue/model2queue/helpers.py?line=15'>16</a>\u001b[0m \u001b[39melse\u001b[39;00m:\n",
      "File \u001b[0;32m~/.local/lib/python3.9/site-packages/uvicorn/main.py:569\u001b[0m, in \u001b[0;36mrun\u001b[0;34m(app, host, port, uds, fd, loop, http, ws, ws_max_size, ws_ping_interval, ws_ping_timeout, ws_per_message_deflate, lifespan, interface, reload, reload_dirs, reload_includes, reload_excludes, reload_delay, workers, env_file, log_config, log_level, access_log, proxy_headers, server_header, date_header, forwarded_allow_ips, root_path, limit_concurrency, backlog, limit_max_requests, timeout_keep_alive, ssl_keyfile, ssl_certfile, ssl_keyfile_password, ssl_version, ssl_cert_reqs, ssl_ca_certs, ssl_ciphers, headers, use_colors, app_dir, factory, h11_max_incomplete_event_size)\u001b[0m\n\u001b[1;32m    <a href='file:///home/vscode/.local/lib/python3.9/site-packages/uvicorn/main.py?line=566'>567</a>\u001b[0m     Multiprocess(config, target\u001b[39m=\u001b[39mserver\u001b[39m.\u001b[39mrun, sockets\u001b[39m=\u001b[39m[sock])\u001b[39m.\u001b[39mrun()\n\u001b[1;32m    <a href='file:///home/vscode/.local/lib/python3.9/site-packages/uvicorn/main.py?line=567'>568</a>\u001b[0m \u001b[39melse\u001b[39;00m:\n\u001b[0;32m--> <a href='file:///home/vscode/.local/lib/python3.9/site-packages/uvicorn/main.py?line=568'>569</a>\u001b[0m     server\u001b[39m.\u001b[39;49mrun()\n\u001b[1;32m    <a href='file:///home/vscode/.local/lib/python3.9/site-packages/uvicorn/main.py?line=569'>570</a>\u001b[0m \u001b[39mif\u001b[39;00m config\u001b[39m.\u001b[39muds \u001b[39mand\u001b[39;00m os\u001b[39m.\u001b[39mpath\u001b[39m.\u001b[39mexists(config\u001b[39m.\u001b[39muds):\n\u001b[1;32m    <a href='file:///home/vscode/.local/lib/python3.9/site-packages/uvicorn/main.py?line=570'>571</a>\u001b[0m     os\u001b[39m.\u001b[39mremove(config\u001b[39m.\u001b[39muds)  \u001b[39m# pragma: py-win32\u001b[39;00m\n",
      "File \u001b[0;32m~/.local/lib/python3.9/site-packages/uvicorn/server.py:60\u001b[0m, in \u001b[0;36mServer.run\u001b[0;34m(self, sockets)\u001b[0m\n\u001b[1;32m     <a href='file:///home/vscode/.local/lib/python3.9/site-packages/uvicorn/server.py?line=57'>58</a>\u001b[0m \u001b[39mdef\u001b[39;00m \u001b[39mrun\u001b[39m(\u001b[39mself\u001b[39m, sockets: Optional[List[socket\u001b[39m.\u001b[39msocket]] \u001b[39m=\u001b[39m \u001b[39mNone\u001b[39;00m) \u001b[39m-\u001b[39m\u001b[39m>\u001b[39m \u001b[39mNone\u001b[39;00m:\n\u001b[1;32m     <a href='file:///home/vscode/.local/lib/python3.9/site-packages/uvicorn/server.py?line=58'>59</a>\u001b[0m     \u001b[39mself\u001b[39m\u001b[39m.\u001b[39mconfig\u001b[39m.\u001b[39msetup_event_loop()\n\u001b[0;32m---> <a href='file:///home/vscode/.local/lib/python3.9/site-packages/uvicorn/server.py?line=59'>60</a>\u001b[0m     \u001b[39mreturn\u001b[39;00m asyncio\u001b[39m.\u001b[39;49mrun(\u001b[39mself\u001b[39;49m\u001b[39m.\u001b[39;49mserve(sockets\u001b[39m=\u001b[39;49msockets))\n",
      "File \u001b[0;32m/usr/lib/python3.9/asyncio/runners.py:33\u001b[0m, in \u001b[0;36mrun\u001b[0;34m(main, debug)\u001b[0m\n\u001b[1;32m      <a href='file:///usr/lib/python3.9/asyncio/runners.py?line=8'>9</a>\u001b[0m \u001b[39m\u001b[39m\u001b[39m\"\"\"Execute the coroutine and return the result.\u001b[39;00m\n\u001b[1;32m     <a href='file:///usr/lib/python3.9/asyncio/runners.py?line=9'>10</a>\u001b[0m \n\u001b[1;32m     <a href='file:///usr/lib/python3.9/asyncio/runners.py?line=10'>11</a>\u001b[0m \u001b[39mThis function runs the passed coroutine, taking care of\u001b[39;00m\n\u001b[0;32m   (...)\u001b[0m\n\u001b[1;32m     <a href='file:///usr/lib/python3.9/asyncio/runners.py?line=29'>30</a>\u001b[0m \u001b[39m    asyncio.run(main())\u001b[39;00m\n\u001b[1;32m     <a href='file:///usr/lib/python3.9/asyncio/runners.py?line=30'>31</a>\u001b[0m \u001b[39m\"\"\"\u001b[39;00m\n\u001b[1;32m     <a href='file:///usr/lib/python3.9/asyncio/runners.py?line=31'>32</a>\u001b[0m \u001b[39mif\u001b[39;00m events\u001b[39m.\u001b[39m_get_running_loop() \u001b[39mis\u001b[39;00m \u001b[39mnot\u001b[39;00m \u001b[39mNone\u001b[39;00m:\n\u001b[0;32m---> <a href='file:///usr/lib/python3.9/asyncio/runners.py?line=32'>33</a>\u001b[0m     \u001b[39mraise\u001b[39;00m \u001b[39mRuntimeError\u001b[39;00m(\n\u001b[1;32m     <a href='file:///usr/lib/python3.9/asyncio/runners.py?line=33'>34</a>\u001b[0m         \u001b[39m\"\u001b[39m\u001b[39masyncio.run() cannot be called from a running event loop\u001b[39m\u001b[39m\"\u001b[39m)\n\u001b[1;32m     <a href='file:///usr/lib/python3.9/asyncio/runners.py?line=35'>36</a>\u001b[0m \u001b[39mif\u001b[39;00m \u001b[39mnot\u001b[39;00m coroutines\u001b[39m.\u001b[39miscoroutine(main):\n\u001b[1;32m     <a href='file:///usr/lib/python3.9/asyncio/runners.py?line=36'>37</a>\u001b[0m     \u001b[39mraise\u001b[39;00m \u001b[39mValueError\u001b[39;00m(\u001b[39m\"\u001b[39m\u001b[39ma coroutine was expected, got \u001b[39m\u001b[39m{!r}\u001b[39;00m\u001b[39m\"\u001b[39m\u001b[39m.\u001b[39mformat(main))\n",
      "\u001b[0;31mRuntimeError\u001b[0m: asyncio.run() cannot be called from a running event loop"
     ]
    }
   ],
   "source": [
    "@enqueue_task\n",
    "def hello():\n",
    "    return \"hello\""
   ]
  },
  {
   "cell_type": "code",
   "execution_count": 6,
   "metadata": {},
   "outputs": [
    {
     "name": "stdout",
     "output_type": "stream",
     "text": [
      "> \u001b[0;32m/home/vscode/.local/lib/python3.9/site-packages/kombu/connection.py\u001b[0m(166)\u001b[0;36m__init__\u001b[0;34m()\u001b[0m\n",
      "\u001b[0;32m    164 \u001b[0;31m\u001b[0;34m\u001b[0m\u001b[0m\n",
      "\u001b[0m\u001b[0;32m    165 \u001b[0;31m        \u001b[0;32mif\u001b[0m \u001b[0mhostname\u001b[0m \u001b[0;32mand\u001b[0m \u001b[0;32mnot\u001b[0m \u001b[0misinstance\u001b[0m\u001b[0;34m(\u001b[0m\u001b[0mhostname\u001b[0m\u001b[0;34m,\u001b[0m \u001b[0mstr\u001b[0m\u001b[0;34m)\u001b[0m\u001b[0;34m:\u001b[0m\u001b[0;34m\u001b[0m\u001b[0;34m\u001b[0m\u001b[0m\n",
      "\u001b[0m\u001b[0;32m--> 166 \u001b[0;31m            \u001b[0malt\u001b[0m\u001b[0;34m.\u001b[0m\u001b[0mextend\u001b[0m\u001b[0;34m(\u001b[0m\u001b[0mhostname\u001b[0m\u001b[0;34m)\u001b[0m\u001b[0;34m\u001b[0m\u001b[0;34m\u001b[0m\u001b[0m\n",
      "\u001b[0m\u001b[0;32m    167 \u001b[0;31m            \u001b[0mhostname\u001b[0m \u001b[0;34m=\u001b[0m \u001b[0malt\u001b[0m\u001b[0;34m[\u001b[0m\u001b[0;36m0\u001b[0m\u001b[0;34m]\u001b[0m\u001b[0;34m\u001b[0m\u001b[0;34m\u001b[0m\u001b[0m\n",
      "\u001b[0m\u001b[0;32m    168 \u001b[0;31m            \u001b[0mparams\u001b[0m\u001b[0;34m.\u001b[0m\u001b[0mupdate\u001b[0m\u001b[0;34m(\u001b[0m\u001b[0mhostname\u001b[0m\u001b[0;34m=\u001b[0m\u001b[0mhostname\u001b[0m\u001b[0;34m)\u001b[0m\u001b[0;34m\u001b[0m\u001b[0;34m\u001b[0m\u001b[0m\n",
      "\u001b[0m\n",
      "<function hello at 0x7ff37cdb3a60>\n",
      "> \u001b[0;32m/workspace/src/model2queue/model2queue/decorators.py\u001b[0m(43)\u001b[0;36menqueue_task\u001b[0;34m()\u001b[0m\n",
      "\u001b[0;32m     41 \u001b[0;31m\u001b[0;34m\u001b[0m\u001b[0m\n",
      "\u001b[0m\u001b[0;32m     42 \u001b[0;31m\u001b[0;32mdef\u001b[0m \u001b[0menqueue_task\u001b[0m\u001b[0;34m(\u001b[0m\u001b[0mconn_url\u001b[0m\u001b[0;34m:\u001b[0m \u001b[0mstr\u001b[0m \u001b[0;34m=\u001b[0m \u001b[0;34m\"memory://localhost/\"\u001b[0m\u001b[0;34m)\u001b[0m\u001b[0;34m:\u001b[0m\u001b[0;34m\u001b[0m\u001b[0;34m\u001b[0m\u001b[0m\n",
      "\u001b[0m\u001b[0;32m---> 43 \u001b[0;31m    \u001b[0mconnection\u001b[0m \u001b[0;34m=\u001b[0m \u001b[0mConnection\u001b[0m\u001b[0;34m(\u001b[0m\u001b[0mconn_url\u001b[0m\u001b[0;34m)\u001b[0m\u001b[0;34m\u001b[0m\u001b[0;34m\u001b[0m\u001b[0m\n",
      "\u001b[0m\u001b[0;32m     44 \u001b[0;31m    \u001b[0mchannel\u001b[0m \u001b[0;34m=\u001b[0m \u001b[0mconnection\u001b[0m\u001b[0;34m.\u001b[0m\u001b[0mchannel\u001b[0m\u001b[0;34m(\u001b[0m\u001b[0;34m)\u001b[0m\u001b[0;34m\u001b[0m\u001b[0;34m\u001b[0m\u001b[0m\n",
      "\u001b[0m\u001b[0;32m     45 \u001b[0;31m\u001b[0;34m\u001b[0m\u001b[0m\n",
      "\u001b[0m\n",
      "<function hello at 0x7ff37cdb3a60>\n"
     ]
    }
   ],
   "source": [
    "%debug"
   ]
  },
  {
   "cell_type": "code",
   "execution_count": 3,
   "metadata": {},
   "outputs": [],
   "source": [
    "@predict_from_queue\n",
    "def predict_input(input):\n",
    "    print(input)\n",
    "    # clf.predict(input)\n",
    "    return input"
   ]
  },
  {
   "cell_type": "code",
   "execution_count": 3,
   "metadata": {},
   "outputs": [
    {
     "data": {
      "text/plain": [
       "'out_queue'"
      ]
     },
     "execution_count": 3,
     "metadata": {},
     "output_type": "execute_result"
    }
   ],
   "source": [
    "from kombu import Connection, Exchange, Queue, Producer, Consumer, Message\n",
    "from kombu.log import get_logger\n",
    "from kombu.mixins import ConsumerMixin, ConsumerProducerMixin\n",
    "from kombu.utils.functional import reprcall\n",
    "\n",
    "from threading import Thread\n",
    "\n",
    "conn_url = \"memory://localhost/\"\n",
    "connection = Connection(conn_url)\n",
    "channel = connection.channel()\n",
    "\n",
    "in_exchange = Exchange(\"in_excahnge\", type=\"direct\")\n",
    "in_queue = Queue(name=\"queue1\", exchange=in_exchange, routing_key=\"api_model_input\")\n",
    "in_queue.maybe_bind(connection)\n",
    "in_queue.declare()\n",
    "\n",
    "out_exchange = Exchange(\"out_exchange\", type=\"direct\")\n",
    "out_queue = Queue(\n",
    "    name=\"out_queue\", exchange=out_exchange, routing_key=\"api_model_output\"\n",
    ")\n",
    "out_queue.maybe_bind(connection)\n",
    "out_queue.declare()\n"
   ]
  },
  {
   "cell_type": "code",
   "execution_count": 4,
   "metadata": {},
   "outputs": [
    {
     "name": "stdout",
     "output_type": "stream",
     "text": [
      "<Message object at 0x7f999462d790 with details {'state': 'RECEIVED', 'content_type': 'text/plain', 'delivery_tag': 'b72bbe7e-b34b-413b-a4ea-157ed989d2f8', 'body_length': 12, 'properties': {}, 'delivery_info': {'exchange': 'in_excahnge', 'routing_key': 'api_model_input'}}>\n",
      "publishing: hello to you\n"
     ]
    }
   ],
   "source": [
    "\n",
    "producer = Producer(exchange=in_exchange, channel=channel, routing_key=\"api_model_input\")\n",
    "\n",
    "producer.publish(\"Hello there!\")"
   ]
  },
  {
   "cell_type": "code",
   "execution_count": 5,
   "metadata": {},
   "outputs": [
    {
     "name": "stdout",
     "output_type": "stream",
     "text": [
      "The body is hello to you\n"
     ]
    }
   ],
   "source": [
    "def process_message(body, message):\n",
    "    print(\"The body is {}\".format(body))\n",
    "    message.ack()\n",
    "\n",
    "\n",
    "with Consumer(connection, queues=out_queue, callbacks=[process_message], accept=[\"text/plain\"]):\n",
    "    connection.drain_events(timeout=2)"
   ]
  },
  {
   "cell_type": "code",
   "execution_count": null,
   "metadata": {},
   "outputs": [],
   "source": []
  }
 ],
 "metadata": {
  "interpreter": {
   "hash": "f9f85f796d01129d0dd105a088854619f454435301f6ffec2fea96ecbd9be4ac"
  },
  "kernelspec": {
   "display_name": "Python 3.9.5 64-bit",
   "language": "python",
   "name": "python3"
  },
  "language_info": {
   "codemirror_mode": {
    "name": "ipython",
    "version": 3
   },
   "file_extension": ".py",
   "mimetype": "text/x-python",
   "name": "python",
   "nbconvert_exporter": "python",
   "pygments_lexer": "ipython3",
   "version": "3.9.16"
  },
  "orig_nbformat": 4,
  "vscode": {
   "interpreter": {
    "hash": "f9f85f796d01129d0dd105a088854619f454435301f6ffec2fea96ecbd9be4ac"
   }
  }
 },
 "nbformat": 4,
 "nbformat_minor": 2
}
